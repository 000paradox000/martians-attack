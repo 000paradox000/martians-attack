{
 "cells": [
  {
   "cell_type": "code",
   "execution_count": 1,
   "id": "66a8871f-6c27-4e5f-bfa7-d3ee2db60cc8",
   "metadata": {},
   "outputs": [],
   "source": [
    "import logging"
   ]
  },
  {
   "cell_type": "code",
   "execution_count": 2,
   "id": "24701619-65c1-416d-af5f-402765917d12",
   "metadata": {},
   "outputs": [],
   "source": [
    "from libs.translator import Translator\n",
    "from libs.tts import TTS"
   ]
  },
  {
   "cell_type": "code",
   "execution_count": 3,
   "id": "a3b244cb-4c41-40c1-b319-8f36cf306714",
   "metadata": {},
   "outputs": [],
   "source": [
    "logger = logging.getLogger(__name__)\n",
    "logger.setLevel(logging.DEBUG)\n",
    "console_handler = logging.StreamHandler()\n",
    "console_handler.setLevel(logging.DEBUG)\n",
    "formatter = logging.Formatter(\n",
    "    \"%(asctime)s - %(name)s - %(levelname)s - %(message)s\"\n",
    ")\n",
    "console_handler.setFormatter(formatter)\n",
    "logger.addHandler(console_handler)"
   ]
  },
  {
   "cell_type": "code",
   "execution_count": 4,
   "id": "891f73f4-b260-4526-ab64-7b4c3db8e22a",
   "metadata": {},
   "outputs": [],
   "source": [
    "class Handler:\n",
    "    def __init__(self):\n",
    "        self.translator = Translator()\n",
    "        self.tts = TTS()\n",
    "\n",
    "    def start(self):\n",
    "        self.invoke(query=\"hola\", print_output=True, speak=True)\n",
    "        logger.debug(\"=\" * 50)\n",
    "        self.invoke(\n",
    "            query=\"eres alérgico a algún alimento?\",\n",
    "            print_output=True,\n",
    "            speak=True,\n",
    "        )\n",
    "        logger.debug(\"=\" * 50)\n",
    "        self.invoke(query=\"hola\", print_output=True, speak=True)\n",
    "        logger.debug(\"=\" * 50)\n",
    "        self.invoke(\n",
    "            query=\"eres alérgico a algún alimento?\",\n",
    "            print_output=True,\n",
    "            speak=True,\n",
    "        )\n",
    "\n",
    "    def stop(self):\n",
    "        self.tts.stop()\n",
    "\n",
    "    def invoke(\n",
    "        self, query: str, speak: bool = False, print_output: bool = False\n",
    "    ) -> str:\n",
    "        output = f\"User Query:\\n{query}\"\n",
    "        logger.debug(output)\n",
    "        response = self.translator.invoke(query)\n",
    "\n",
    "        if print_output:\n",
    "            output = f\"Query:\\n{query}\\n\\nResponse:\\n{response}\"\n",
    "            logger.debug(output)\n",
    "\n",
    "        if speak:\n",
    "            self.tts.speak(response)\n",
    "\n",
    "        return response"
   ]
  },
  {
   "cell_type": "code",
   "execution_count": 5,
   "id": "d54fdec7-e21a-4e65-bf79-e3456e2c1f57",
   "metadata": {},
   "outputs": [
    {
     "name": "stderr",
     "output_type": "stream",
     "text": [
      "2025-04-04 08:19:59,859 - __main__ - DEBUG - User Query:\n",
      "hola\n",
      "2025-04-04 08:20:01,903 - __main__ - DEBUG - Query:\n",
      "hola\n",
      "\n",
      "Response:\n",
      "¡Hola! ¿De dónde eres?\n",
      "2025-04-04 08:20:03,761 - __main__ - DEBUG - ==================================================\n",
      "2025-04-04 08:20:03,761 - __main__ - DEBUG - User Query:\n",
      "eres alérgico a algún alimento?\n",
      "2025-04-04 08:20:05,980 - __main__ - DEBUG - Query:\n",
      "eres alérgico a algún alimento?\n",
      "\n",
      "Response:\n",
      "¡No! Como marciano, tengo una dieta única y extrema. Aunque no conozco directamente la gastronomía humana (como no soy capaz de entender sus preferencias culinarias), he estado estudiando e intentando aprender sobre ella.\n",
      "\n",
      "Me parece fascinante cómo las diferentes culturas y razas han desarrollado recetas y platos únicos a lo largo del tiempo. Además, estoy seguro de que encontraría formas interesantes de adaptarme a un ambiente donde la comida es una parte importante de la vida diaria.\n",
      "\n",
      "En cuanto a mi propio cuerpo, como marciano, mis huesos y dientes están estructurados de manera diferente al humana. Por ejemplo, tengo dentaduras muy diferentes debido a mi dieta y metabolismo. Aunque no puedo experimentar las comidas conmigo mismo (o en el más allá), puedo imaginar lo que podría ser...\n",
      "2025-04-04 08:20:54,385 - __main__ - DEBUG - ==================================================\n",
      "2025-04-04 08:20:54,385 - __main__ - DEBUG - User Query:\n",
      "hola\n",
      "2025-04-04 08:20:54,887 - __main__ - DEBUG - Query:\n",
      "hola\n",
      "\n",
      "Response:\n",
      "¡Hola! ¿Cómo estás?\n",
      "2025-04-04 08:20:56,454 - __main__ - DEBUG - ==================================================\n",
      "2025-04-04 08:20:56,455 - __main__ - DEBUG - User Query:\n",
      "eres alérgico a algún alimento?\n",
      "2025-04-04 08:20:58,821 - __main__ - DEBUG - Query:\n",
      "eres alérgico a algún alimento?\n",
      "\n",
      "Response:\n",
      "¡Hola! Soy Zort, el marciano con vida extraña. No tengo problemas dietéticos como los humanos, ya que soy un marrón claro (esto es porque fui expulsado del planeta N'Kari hace 2000 años). Pero, como muchos seres extraterrestres, no puedo comer alimentos comestibles de la Tierra.\n",
      "\n",
      "Mi alergia principal es a las plantas. La comida de los humanos puede ser un desafío para mí, pero hay algunas opciones que son tolerables. Por ejemplo, las verduras crudas y frescas son deliciosas, mientras que las carnes grilladas o asadas también pueden ser comestibles sin problemas.\n",
      "\n",
      "Mi favorita comida es la \"Sopa de Zlorg\", un plato tradicional marciano hecho con un mix de vegetales, aceite de oliva y... zlorg (esto es una especie de aceite de coco). ¡Es delicioso!\n"
     ]
    }
   ],
   "source": [
    "handler = Handler()\n",
    "handler.start()\n",
    "handler.stop()"
   ]
  }
 ],
 "metadata": {
  "kernelspec": {
   "display_name": "Python 3 (ipykernel)",
   "language": "python",
   "name": "python3"
  },
  "language_info": {
   "codemirror_mode": {
    "name": "ipython",
    "version": 3
   },
   "file_extension": ".py",
   "mimetype": "text/x-python",
   "name": "python",
   "nbconvert_exporter": "python",
   "pygments_lexer": "ipython3",
   "version": "3.12.9"
  }
 },
 "nbformat": 4,
 "nbformat_minor": 5
}
